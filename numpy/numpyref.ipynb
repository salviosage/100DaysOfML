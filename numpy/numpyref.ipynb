{
 "metadata": {
  "language_info": {
   "codemirror_mode": {
    "name": "ipython",
    "version": 3
   },
   "file_extension": ".py",
   "mimetype": "text/x-python",
   "name": "python",
   "nbconvert_exporter": "python",
   "pygments_lexer": "ipython3",
   "version": "3.7.1-final"
  },
  "orig_nbformat": 2,
  "kernelspec": {
   "name": "python3",
   "display_name": "Python 3",
   "language": "python"
  }
 },
 "nbformat": 4,
 "nbformat_minor": 2,
 "cells": [
  {
   "source": [
    "# numpy provides fast alternatives to math operations in Python\n",
    "import numpy as np \n"
   ],
   "cell_type": "code",
   "metadata": {},
   "execution_count": 15,
   "outputs": []
  },
  {
   "cell_type": "code",
   "execution_count": 16,
   "metadata": {},
   "outputs": [],
   "source": [
    "# most common way to work with numbers in numpy is throught ndarray objects,similar to python list and can have m mumber of dimension in addition , it suppport fast mathematical operation "
   ]
  },
  {
   "cell_type": "code",
   "execution_count": 17,
   "metadata": {},
   "outputs": [
    {
     "output_type": "execute_result",
     "data": {
      "text/plain": [
       "()"
      ]
     },
     "metadata": {},
     "execution_count": 17
    }
   ],
   "source": [
    "#scalar involved more in numpy than in python , numpy let you specify signed and unsigned types and sizes\n",
    "# scalar is more inportant becouse every tensor you make will consist of scalrs, like when you create numpy array must have the same scalar type \n",
    "arr = np.array(5)\n",
    "arr.shape"
   ]
  },
  {
   "cell_type": "code",
   "execution_count": 18,
   "metadata": {},
   "outputs": [
    {
     "output_type": "execute_result",
     "data": {
      "text/plain": [
       "8"
      ]
     },
     "metadata": {},
     "execution_count": 18
    }
   ],
   "source": [
    "# this (). indicates that it has zero dimensions shape.\n",
    "# since it is treated as a scalar even tho it is in an array lets do some mathethematical operations on it \n",
    "arr = arr + 3\n",
    "arr"
   ]
  },
  {
   "cell_type": "code",
   "execution_count": 20,
   "metadata": {},
   "outputs": [
    {
     "output_type": "execute_result",
     "data": {
      "text/plain": [
       "(3,)"
      ]
     },
     "metadata": {},
     "execution_count": 20
    }
   ],
   "source": [
    "# as you can see it adds 3 to our scalar of value 5\n",
    "\n",
    "#Vector\n",
    "# to create it you can pass python list to array function \n",
    "vec = np.array([1,2,3])\n",
    "vec.shape"
   ]
  },
  {
   "cell_type": "code",
   "execution_count": 23,
   "metadata": {},
   "outputs": [
    {
     "output_type": "execute_result",
     "data": {
      "text/plain": [
       "2"
      ]
     },
     "metadata": {},
     "execution_count": 23
    }
   ],
   "source": [
    "# as you can see above vec is one dimmension vector , to acccess its content use indices as normal array \n",
    "vec[1]"
   ]
  },
  {
   "cell_type": "code",
   "execution_count": 24,
   "metadata": {},
   "outputs": [
    {
     "output_type": "execute_result",
     "data": {
      "text/plain": [
       "array([1])"
      ]
     },
     "metadata": {},
     "execution_count": 24
    }
   ],
   "source": [
    "# numpy also support advanced indexing techniques , like returning up to 1th inidces \n",
    "vec[:1]"
   ]
  },
  {
   "cell_type": "code",
   "execution_count": 26,
   "metadata": {},
   "outputs": [
    {
     "output_type": "execute_result",
     "data": {
      "text/plain": [
       "(3, 3)"
      ]
     },
     "metadata": {},
     "execution_count": 26
    }
   ],
   "source": [
    "#Matrices \n",
    "# to create a matrix we need to do as we did creating  vector but for now providing python list of lists , instead of one list  \n",
    "mat = np.array([[1,2,3], [4,5,6], [7,8,9]])\n",
    "mat.shape"
   ]
  },
  {
   "cell_type": "code",
   "execution_count": 28,
   "metadata": {},
   "outputs": [
    {
     "output_type": "execute_result",
     "data": {
      "text/plain": [
       "7"
      ]
     },
     "metadata": {},
     "execution_count": 28
    }
   ],
   "source": [
    "#as you see above we created two dimension tensor(matrix)\n",
    "\n",
    "#accessing matrix information is the same as vector but providing additional index value\n",
    "#lets get 7 in the above matrix \n",
    "mat[2][0]"
   ]
  },
  {
   "cell_type": "code",
   "execution_count": 30,
   "metadata": {},
   "outputs": [
    {
     "output_type": "execute_result",
     "data": {
      "text/plain": [
       "(3, 3, 2, 1)"
      ]
     },
     "metadata": {},
     "execution_count": 30
    }
   ],
   "source": [
    "#tensors \n",
    "# tensors is also vector or matrix but beside that ,it can have many dimessions. for example now lets create one \n",
    "tens = np.array([[[[1],[2]],[[3],[4]],[[5],[6]]],[[[7],[8]],\\\n",
    "    [[9],[10]],[[11],[12]]],[[[13],[14]],[[15],[16]],[[17],[17]]]])\n",
    "\n",
    "tens.shape"
   ]
  },
  {
   "cell_type": "code",
   "execution_count": 34,
   "metadata": {},
   "outputs": [
    {
     "output_type": "execute_result",
     "data": {
      "text/plain": [
       "12"
      ]
     },
     "metadata": {},
     "execution_count": 34
    }
   ],
   "source": [
    "# you can access the element assing more indices \n",
    "tens[1][2][1][0]"
   ]
  },
  {
   "cell_type": "code",
   "execution_count": null,
   "metadata": {},
   "outputs": [],
   "source": [
    "#changing shapes "
   ]
  }
 ]
}